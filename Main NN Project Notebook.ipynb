{
  "nbformat": 4,
  "nbformat_minor": 0,
  "metadata": {
    "accelerator": "GPU",
    "colab": {
      "name": "main.ipynb",
      "provenance": [],
      "collapsed_sections": []
    },
    "kernelspec": {
      "display_name": "Python 3",
      "name": "python3"
    },
    "language_info": {
      "name": "python"
    }
  },
  "cells": [
    {
      "cell_type": "markdown",
      "metadata": {
        "id": "vCmdBfiHk-Xr"
      },
      "source": [
        "# **AGE AND GENDER CLASSIFICATION WITH CONVOLUTIONAL NEURAL NETWORKS**\n",
        "\n",
        "## **Developers**:\n",
        "> ### 1) Mohammed Abdul Moyeed(Z-1912165)\n",
        "> ### 2) Omer Bin Ali Bajubair(Z-1905006)\n",
        "\n",
        "## **Description**: This project creates two convolutional neural networks from scratch, one of which classifies the person based on Gender(Male or Female), whereas the other one classifies the person based on Age within 8 classes('0-2','4-6','8-13' ,'15-20','25-32', '38-43','48-53','60+')\n",
        "\n"
      ]
    },
    {
      "cell_type": "markdown",
      "metadata": {
        "id": "y_N1hCvzm3Eo"
      },
      "source": [
        "# Importing requird Libraries"
      ]
    },
    {
      "cell_type": "code",
      "metadata": {
        "id": "LQwI26KGepY8"
      },
      "source": [
        "import numpy as np\n",
        "import pandas as pd\n",
        "import matplotlib.pyplot as plt\n",
        "import torch\n",
        "import torch.nn as nn\n",
        "import torch.nn.functional as F\n",
        "import torchvision\n",
        "from PIL import Image\n",
        "import torchvision.transforms as transforms\n",
        "from sklearn.metrics import confusion_matrix\n",
        "from torch.utils.data import Dataset, DataLoader\n",
        "from skimage import io"
      ],
      "execution_count": null,
      "outputs": []
    },
    {
      "cell_type": "markdown",
      "metadata": {
        "id": "aGG8rSn7m8YS"
      },
      "source": [
        "# Downloading the data from github repo by cloning it."
      ]
    },
    {
      "cell_type": "code",
      "metadata": {
        "colab": {
          "base_uri": "https://localhost:8080/"
        },
        "id": "-idhpDdJenXf",
        "outputId": "fcb48725-16fb-4d8f-d417-d8460ca3b7d3"
      },
      "source": [
        "!git clone https://github.com/omer1997/DATASET.git"
      ],
      "execution_count": null,
      "outputs": [
        {
          "output_type": "stream",
          "name": "stdout",
          "text": [
            "fatal: destination path 'DATASET' already exists and is not an empty directory.\n"
          ]
        }
      ]
    },
    {
      "cell_type": "markdown",
      "metadata": {
        "id": "pHgM7r4_nC1a"
      },
      "source": [
        "# Reading and merging the downloaded data."
      ]
    },
    {
      "cell_type": "code",
      "metadata": {
        "id": "Mfr_-V-qyk1r",
        "colab": {
          "base_uri": "https://localhost:8080/"
        },
        "outputId": "e199798c-f26d-4cbc-f523-0cd26f90156e"
      },
      "source": [
        "fold_0_url=\"https://raw.githubusercontent.com/omer1997/DATASET/main/AdienceBenchmarkGenderAndAgeClassification/fold_0_data.txt\"\n",
        "fold_1_url=\"https://raw.githubusercontent.com/omer1997/DATASET/main/AdienceBenchmarkGenderAndAgeClassification/fold_1_data.txt\"\n",
        "fold_2_url=\"https://raw.githubusercontent.com/omer1997/DATASET/main/AdienceBenchmarkGenderAndAgeClassification/fold_2_data.txt\"\n",
        "fold_3_url=\"https://raw.githubusercontent.com/omer1997/DATASET/main/AdienceBenchmarkGenderAndAgeClassification/fold_3_data.txt\"\n",
        "fold_4_url=\"https://raw.githubusercontent.com/omer1997/DATASET/main/AdienceBenchmarkGenderAndAgeClassification/fold_4_data.txt\"\n",
        "fold_0_data=pd.read_csv(fold_0_url,sep = \"\\t\")\n",
        "fold_1_data=pd.read_csv(fold_1_url,sep = \"\\t\")\n",
        "fold_2_data=pd.read_csv(fold_2_url,sep = \"\\t\")\n",
        "fold_3_data=pd.read_csv(fold_3_url,sep = \"\\t\")\n",
        "fold_4_data=pd.read_csv(fold_4_url,sep = \"\\t\")\n",
        "total_fold_data = pd.concat([fold_0_data, fold_1_data, fold_2_data, fold_3_data,fold_4_data], ignore_index=True)\n",
        "print(' The shape of fold data 0 is : ' , fold_0_data.shape)\n",
        "print(' The shape of fold data 1 is : ' , fold_1_data.shape)\n",
        "print(' The shape of fold data 2 is : ' , fold_2_data.shape)\n",
        "print(' The shape of fold data 3 is : ' , fold_3_data.shape)\n",
        "print(' The shape of fold data 4 is : ' , fold_4_data.shape)\n",
        "print(' The shape of TOTAL DATA  is : ' , total_fold_data.shape)"
      ],
      "execution_count": null,
      "outputs": [
        {
          "output_type": "stream",
          "name": "stdout",
          "text": [
            " The shape of fold data 0 is :  (4484, 12)\n",
            " The shape of fold data 1 is :  (3730, 12)\n",
            " The shape of fold data 2 is :  (3894, 12)\n",
            " The shape of fold data 3 is :  (3446, 12)\n",
            " The shape of fold data 4 is :  (3816, 12)\n",
            " The shape of TOTAL DATA  is :  (19370, 12)\n"
          ]
        }
      ]
    },
    {
      "cell_type": "markdown",
      "metadata": {
        "id": "k6Kh047womXh"
      },
      "source": [
        "# add image locations in the merged dataset "
      ]
    },
    {
      "cell_type": "code",
      "metadata": {
        "id": "QzLSx_zWeAjr"
      },
      "source": [
        "df = total_fold_data[['age', 'gender', 'x', 'y', 'dx', 'dy']].copy()\n",
        "img_path = []\n",
        "for row in total_fold_data.iterrows():\n",
        "    #print(row)\n",
        "    path = \"/content/DATASET/AdienceBenchmarkGenderAndAgeClassification/faces/\"+row[1].user_id+\"/coarse_tilt_aligned_face.\"+str(row[1].face_id)+\".\"+row[1].original_image\n",
        "    #print(path)\n",
        "    img_path.append(path)\n",
        "\n",
        "df['img_path'] = img_path\n",
        "# display(df)\n",
        "# df['img_path'][1]"
      ],
      "execution_count": null,
      "outputs": []
    },
    {
      "cell_type": "markdown",
      "metadata": {
        "id": "Xg38c02YpLs5"
      },
      "source": [
        "# mapping different ages to following 8 classes\n",
        "{\n",
        "    '0-2',\n",
        "    '4-6',\n",
        "    '8-13',\n",
        "    '15-20',\n",
        "    '25-32',\n",
        "    '38-43',\n",
        "    '48-53',\n",
        "    '60+'\n",
        "}"
      ]
    },
    {
      "cell_type": "code",
      "metadata": {
        "id": "JSMKWizBzFNP",
        "colab": {
          "base_uri": "https://localhost:8080/"
        },
        "outputId": "f7a52674-81cc-4efb-d4cb-5062bf8cd445"
      },
      "source": [
        "age_mapping = [('(0, 2)', '0-2'), ('2', '0-2'), ('3', '0-2'), ('(4, 6)', '4-6'), ('(8, 12)', '8-13'), ('13', '8-13'), ('22', '15-20'), ('(8, 23)','15-20'), ('23', '25-32'), ('(15, 20)', '15-20'), ('(25, 32)', '25-32'), ('(27, 32)', '25-32'), ('32', '25-32'), ('34', '25-32'), ('29', '25-32'), ('(38, 42)', '38-43'), ('35', '38-43'), ('36', '38-43'), ('42', '48-53'), ('45', '38-43'), ('(38, 43)', '38-43'), ('(38, 42)', '38-43'), ('(38, 48)', '48-53'), ('46', '48-53'), ('(48, 53)', '48-53'), ('55', '48-53'), ('56', '48-53'), ('(60, 100)', '60+'), ('57', '60+'), ('58', '60+')]\n",
        "\n",
        "age_mapping_dict = {each[0]: each[1] for each in age_mapping}\n",
        "drop_labels = []\n",
        "for idx, each in enumerate(df.age):\n",
        "    if each == 'None':\n",
        "        drop_labels.append(idx)\n",
        "    else:\n",
        "        df.age.loc[idx] = age_mapping_dict[each]\n",
        "\n",
        "        \n",
        "#drop none values in age        \n",
        "df = df.drop(labels=drop_labels, axis=0) #droped None values\n",
        "#df.age.value_counts(dropna=False)\n",
        "\n",
        "\n",
        "#drop none gender values(u)  \n",
        "df = df.dropna()\n",
        "unbiased_data = df[df.gender != 'u'].copy()\n",
        "#unbiased_data.info()\n",
        "\n",
        "# print(unbiased_data ['img_path'][1])\n",
        "# unbiased_data.head(2)"
      ],
      "execution_count": null,
      "outputs": [
        {
          "output_type": "stream",
          "name": "stderr",
          "text": [
            "/usr/local/lib/python3.7/dist-packages/pandas/core/indexing.py:670: SettingWithCopyWarning: \n",
            "A value is trying to be set on a copy of a slice from a DataFrame\n",
            "\n",
            "See the caveats in the documentation: https://pandas.pydata.org/pandas-docs/stable/user_guide/indexing.html#returning-a-view-versus-a-copy\n",
            "  iloc._setitem_with_indexer(indexer, value)\n"
          ]
        }
      ]
    },
    {
      "cell_type": "code",
      "metadata": {
        "id": "g3HJVNylzRqX"
      },
      "source": [
        "#labeling gender\n",
        "gender_to_label_map = {\n",
        "    'f' : 0,\n",
        "    'm' : 1\n",
        "}\n",
        "\n",
        "#labeling age\n",
        "age_to_label_map = {\n",
        "    '0-2'  :0,\n",
        "    '4-6'  :1,\n",
        "    '8-13' :2,\n",
        "    '15-20':3,\n",
        "    '25-32':4,\n",
        "    '38-43':5,\n",
        "    '48-53':6,\n",
        "    '60+'  :7\n",
        "}\n",
        "\n",
        "label_to_age_map = {value: key for key, value in age_to_label_map.items()}\n",
        "label_to_gender_map = {value: key for key, value in gender_to_label_map.items()}\n",
        "#change age and gender to labels\n",
        "unbiased_data['age'] = unbiased_data['age'].apply(lambda age: age_to_label_map[age])\n",
        "unbiased_data['gender'] = unbiased_data['gender'].apply(lambda g: gender_to_label_map[g])\n",
        "unbiased_data.reset_index(inplace=True)\n",
        "\n",
        "# print(unbiased_data['img_path'][1])\n",
        "# unbiased_data.head(2)\n"
      ],
      "execution_count": null,
      "outputs": []
    },
    {
      "cell_type": "markdown",
      "metadata": {
        "id": "6DHL-Padt5FS"
      },
      "source": [
        "# visualize one image with Labels"
      ]
    },
    {
      "cell_type": "code",
      "metadata": {
        "colab": {
          "base_uri": "https://localhost:8080/",
          "height": 317
        },
        "id": "jpdPP9yy1kqE",
        "outputId": "d3ee1855-708b-411d-f5bf-352e8f6b2cc7"
      },
      "source": [
        "#to plot image\n",
        "def show_image(img_filename, age, gender):\n",
        "    img = Image.open(img_filename)\n",
        "    print(img_filename)\n",
        "    plt.imshow(img)\n",
        "    plt.title(f'size (w, h): {img.size}, age: {age}, gender: {gender}')\n",
        "    plt.show()\n",
        "    \n",
        "idx = np.random.randint(unbiased_data.shape[0])\n",
        "print(idx)\n",
        "fname = unbiased_data['img_path'][idx]\n",
        "age = label_to_age_map[unbiased_data['age'][idx]]\n",
        "gender = label_to_gender_map[unbiased_data['gender'][idx]]\n",
        "show_image(fname, age, gender)"
      ],
      "execution_count": null,
      "outputs": [
        {
          "output_type": "stream",
          "name": "stdout",
          "text": [
            "11611\n",
            "/content/DATASET/AdienceBenchmarkGenderAndAgeClassification/faces/7890646@N03/coarse_tilt_aligned_face.1390.10693565714_d149ee0688_o.jpg\n"
          ]
        },
        {
          "output_type": "display_data",
          "data": {
            "image/png": "[encoded data removed]",
            "text/plain": [
              "<Figure size 432x288 with 1 Axes>"
            ]
          },
          "metadata": {
            "needs_background": "light"
          }
        }
      ]
    },
    {
      "cell_type": "markdown",
      "metadata": {
        "id": "tsghvTRckstl"
      },
      "source": [
        "# defining required functions for Convolutional models template and supporting functions"
      ]
    },
    {
      "cell_type": "code",
      "metadata": {
        "id": "R0-Q2PwVjnHa"
      },
      "source": [
        "\n",
        "class FaceDataset(Dataset):\n",
        "    \"\"\"Face Landmarks dataset.\"\"\"\n",
        "\n",
        "    def __init__(self, labels, data, transform=None):\n",
        "        \"\"\"\n",
        "        Args:\n",
        "            csv_file (string): Path to the csv file with annotations.\n",
        "            root_dir (string): Directory with all the images.\n",
        "            transform (callable, optional): Optional transform to be applied\n",
        "                on a sample.\n",
        "        \"\"\"\n",
        "        self.labels = labels\n",
        "        self.data = data\n",
        "        self.transform = transform\n",
        "\n",
        "    def __len__(self):\n",
        "        return len(self.data)\n",
        "\n",
        "    def __getitem__(self, idx):\n",
        "        label = torch.tensor(int(self.labels.iloc[idx]))\n",
        "        img = self.data[idx]\n",
        "\n",
        "        if self.transform:\n",
        "            transformed_img = self.transform(img)\n",
        "        img = transformed_img\n",
        "        return (img,label)\n",
        "\n",
        "class Cifar_Conv_Net(nn.Module):\n",
        "  '''initialize the model \\n  loss_func(optional):defaults to F.cross_entropy,\\n regularization = \"L2\" '''\n",
        "  def __init__(self, loss_func = F.cross_entropy,activation_func = F.relu, regularization = \"L2\"):\n",
        "    super(Cifar_Conv_Net,self).__init__()\n",
        "    self.conv1 = nn.Conv2d(3, 6, 5)\n",
        "    self.conv2 = nn.Conv2d(6, 16, 5)\n",
        "    self.pool = nn.MaxPool2d(2,2)\n",
        "    # after calculating the size based on above convolutional layers the shape here will be [batches, chanels = 16, featres = [5,5]]\n",
        "    self.fc1 = nn.Linear(16*5*5,120)\n",
        "    self.fc2 = nn.Linear(120,84)\n",
        "    self.fc3 = nn.Linear(84,10)\n",
        "    self.activation_func = activation_func;\n",
        "    self.loss_func = loss_func\n",
        "    self.regularization = regularization\n",
        "  \n",
        "  def forward(self,x):\n",
        "    \n",
        "    '''This function define the forward flow of the neural network.'''\n",
        "    # initializing convolutional layer\n",
        "    forward_flow = self.activation_func(self.conv1(x))\n",
        "    forward_flow = self.pool(forward_flow)\n",
        "    forward_flow = self.activation_func(self.conv2(forward_flow))\n",
        "    forward_flow = self.pool(forward_flow)\n",
        "    # the first parameter is the batch size, which pytorch automatically configures and the flatten size is calculated again based on the formula.\n",
        "    forward_flow = forward_flow.view(-1, 16*5*5)\n",
        "    # fully connected network is started here\n",
        "    forward_flow = self.activation_func(self.fc1(forward_flow))\n",
        "    forward_flow = self.activation_func(self.fc2(forward_flow))\n",
        "    forward_flow = self.fc3(forward_flow)\n",
        "    return forward_flow\n",
        "\n",
        "  def fit(self, train_data, val_data,epochs = 100, opt_func = torch.optim.SGD, learning_rate = 0.001,weight_decay = 0.1,weight_decay_l1= 1,moment = 0,betas = None,classes=['m','f']):\n",
        "    '''This function runs for given epochs and trains the model based on the parameters given \n",
        "    \\n L2 regularization is done based on the weight decay parameter in the optimizer, \n",
        "    for ADAM pytorch documentation says that it uses weight decay to find L2 reg. seperately '''\n",
        "    history = []\n",
        "    #Add parameters based on type of optimizer.\n",
        "    if(betas != None):\n",
        "      optimizer = opt_func(self.parameters(), learning_rate, betas = betas, weight_decay = weight_decay)\n",
        "    else:\n",
        "      optimizer = opt_func(self.parameters(), learning_rate, momentum = moment, weight_decay = weight_decay)\n",
        "    for epoch in range(epochs):\n",
        "        # Training Phase \n",
        "        for batch in train_data:\n",
        "          loss = self.training_step(batch)\n",
        "          #L1 regularization, the lambda, hyper parameter is taken from weight_decay parameter.\n",
        "          if(self.regularization.lower() == \"l1\"):\n",
        "            l1_crit = nn.L1Loss(size_average=False)\n",
        "            reg_loss = 0\n",
        "            for param in model.parameters():\n",
        "                reg_loss += l1_crit(param,target=torch.zeros_like(param))\n",
        "\n",
        "            loss += weight_decay_l1 * reg_loss\n",
        "\n",
        "          loss.backward()\n",
        "          optimizer.step()\n",
        "          optimizer.zero_grad()\n",
        "        # Validation phase\n",
        "        result = self.evaluate(val_data)\n",
        "        print(\"Epoch [{}], val_loss: {:.4f}, val_acc: {:.4f}\".format(epoch, result['val_loss'], result['val_acc']))\n",
        "        history.append(result)\n",
        "    self.show_confusion_matrix(train_data = training_data,val_data = val_data,classes=classes)\n",
        "    return history\n",
        "\n",
        "  def training_step(self,batch):\n",
        "    ''' This function does a forward step and calculates the loss for each batch.'''\n",
        "    imgs,labels = batch\n",
        "    preds_with_curr_weights = self(imgs)\n",
        "    loss = self.loss_func(preds_with_curr_weights,labels)\n",
        "    return loss\n",
        "\n",
        "  def evaluate(self, val_data):\n",
        "    '''This function calculates the validation accuracy of whole data and returns it.'''\n",
        "    outputs = [self.validation_step(batch) for batch in val_data]\n",
        "    return self.validation_epoch_end(outputs)\n",
        "\n",
        "  def validation_step(self, batch):\n",
        "    '''this function calculates the validation accuracy of each batch'''\n",
        "    images, labels = batch \n",
        "    out = self(images)                    \n",
        "    loss = F.cross_entropy(out, labels)\n",
        "    # self.add_class_details(out, labels,test_data = False)   \n",
        "    acc = self.accuracy(out, labels)           \n",
        "    return {'val_loss': loss.detach(), 'val_acc': acc}\n",
        "\n",
        "  def validation_epoch_end(self, outputs):\n",
        "    '''This function combines the losses and accuracy of all batches and send as one for all data'''\n",
        "    batch_losses = [x['val_loss'] for x in outputs]\n",
        "    epoch_loss = torch.stack(batch_losses).mean()   \n",
        "    batch_accs = [x['val_acc'] for x in outputs]\n",
        "    epoch_acc = torch.stack(batch_accs).mean()      \n",
        "    return {'val_loss': epoch_loss.item(), 'val_acc': epoch_acc.item()}\n",
        "\n",
        "  def show_confusion_matrix(self,train_data= None,val_data =None,test_data =None,classes=['m','f']):\n",
        "    ''' This function calculates the confusion matrix for given data '''\n",
        "    if(train_data !=None):\n",
        "      predicted = []\n",
        "      actual = []\n",
        "      for images,labels in train_data:\n",
        "        _, preds = torch.max(self(images), dim=1)\n",
        "        predicted.extend(preds.cpu())\n",
        "        actual.extend(labels.cpu())\n",
        "      print(\"The Training confusion matrix is..\\n\")\n",
        "      conf_mat = confusion_matrix(actual,predicted)\n",
        "      self.print_conf_mat(conf_mat,classes=classes)\n",
        "\n",
        "    if(val_data !=None):\n",
        "      predicted = []\n",
        "      actual = []\n",
        "      for images,labels in val_data:\n",
        "        _, preds = torch.max(self(images), dim=1)\n",
        "        predicted.extend(preds.cpu())\n",
        "        actual.extend(labels.cpu())\n",
        "      print(\"The validation confusion matrix is..\\n\")\n",
        "      conf_mat = confusion_matrix(actual,predicted)\n",
        "      self.print_conf_mat(conf_mat,classes=classes)\n",
        "      print(\"\\n\")\n",
        "    \n",
        "    if(test_data !=None):\n",
        "      predicted = []\n",
        "      actual = []\n",
        "      for images,labels in test_data:\n",
        "        _, preds = torch.max(self(images), dim=1)\n",
        "        predicted.extend(preds.cpu())\n",
        "        actual.extend(labels.cpu())\n",
        "      print(\"The test confusion matrix is..\\n\")\n",
        "      conf_mat = confusion_matrix(actual,predicted)\n",
        "      self.print_conf_mat(conf_mat,classes=classes)\n",
        "      print(\"\\n\")\n",
        "\n",
        "  def print_conf_mat(self,conf_mat,classes=['m','f']):\n",
        "    ''' This function formats the confusion matrix and displays it. '''\n",
        "    #classes = ['plane', 'car', 'bird', 'cat','deer', 'dog', 'frog', 'horse', 'ship', 'truck']\n",
        "    print(\"       \",end = \"  \")\n",
        "    for each_class in classes:\n",
        "      print(f'{each_class:7s}  ',end = \" \")\n",
        "\n",
        "    print(\"\\n\")\n",
        "    for row in range(len(conf_mat)):\n",
        "      print(f'{classes[row]:5s}', end = \"   \")\n",
        "      for column in range(len(conf_mat[0])):\n",
        "        print(f'{ (conf_mat[row][column]/np.sum(conf_mat[row]))*100:5.2f} %', end = \"   \")\n",
        "      print(\"\\n\")\n",
        "    print(\"\\n\")\n",
        "\n",
        "  def accuracy(self,outputs, labels):\n",
        "    '''calculates the accuracy of the model.'''\n",
        "    _, preds = torch.max(outputs, dim=1)\n",
        "    return torch.tensor(torch.sum(preds == labels).item() / len(preds))\n",
        "#----------------------------------------------end of Neural Network class ---------------------------------\n",
        "\n",
        "class DeviceDataLoader():\n",
        "    '''This class wraps a dataloader to move data to a device'''\n",
        "    def __init__(self, dl, device):\n",
        "        self.dl = dl\n",
        "        self.device = device\n",
        "        \n",
        "    def __iter__(self):\n",
        "        \"\"\"Yield a batch of data after moving it to device\"\"\"\n",
        "        for b in self.dl: \n",
        "            yield to_device(b, self.device)\n",
        "\n",
        "    def __len__(self):\n",
        "        \"\"\"Number of batches\"\"\"\n",
        "        return len(self.dl)\n",
        "\n",
        "#-------------------------------------------end of DeviceDataLoader class ------------------------------------\n",
        "\n",
        "\n",
        "def load_data(X_train,y_train,X_test,y_test,batch_size = 256,val_size = 2000, normalize = True, augument_data = True):\n",
        "  '''This function will load the cifar-10 dataset from pytorch. '''\n",
        "  # based on the parameter, the data is being normalized to check what might be the difference if we donot normalize it.\n",
        "  torch.manual_seed(17)\n",
        "  if(normalize):\n",
        "    transform = transforms.Compose(\n",
        "        [\n",
        "         transforms.ToTensor(),\n",
        "        transforms.Normalize((0.5, 0.5, 0.5), (0.5, 0.5, 0.5))])\n",
        "    train_transform = transforms.Compose(\n",
        "        [\n",
        "         transforms.ToTensor(),\n",
        "        #  transforms.RandomResizedCrop(224),\n",
        "         transforms.RandomHorizontalFlip(p=0.5),\n",
        "         transforms.RandomVerticalFlip(p=0.5),\n",
        "        #  transforms.RandomGrayscale(p=0.3),\n",
        "        #  transforms.RandomPerspective(p=0.5),\n",
        "        #  transforms.RandomRotation((-360,360)),\n",
        "        #  transforms.RandomInvert(p=0.3),\n",
        "        transforms.Normalize((0.5, 0.5, 0.5), (0.5, 0.5, 0.5))])\n",
        "  else:\n",
        "    transform = transforms.Compose(\n",
        "        [transforms.ToTensor()])\n",
        "    train_transform = transforms.Compose(\n",
        "        [\n",
        "        transforms.ToTensor(),\n",
        "        transforms.RandomHorizontalFlip(p=0.5),\n",
        "         transforms.RandomVerticalFlip(p=0.5),\n",
        "        #  transforms.RandomGrayscale(p=0.3),\n",
        "        #  transforms.RandomPerspective(p=0.5),\n",
        "        #  transforms.RandomRotation((-360,360)),\n",
        "        #  transforms.RandomInvert(p=0.3),\n",
        "         ])\n",
        "  \n",
        "  \n",
        " # train_set = torchvision.datasets.CIFAR10(root='./data', train=True,                                  \n",
        "                                          #   download=True, transform=train_transform if augument_data else transform)\n",
        "  train_set= FaceDataset(y_train,X_train,train_transform if augument_data else transform)\n",
        "  torch.manual_seed(43)\n",
        "  train_size = len(train_set) - val_size\n",
        "  train_ds, val_ds = torch.utils.data.random_split(train_set, [train_size, val_size])\n",
        "  \n",
        "  train_loader = torch.utils.data.DataLoader(train_set, batch_size=batch_size,\n",
        "                                            shuffle=True, num_workers=2)\n",
        "  \n",
        "  val_loader = torch.utils.data.DataLoader(val_ds, batch_size=batch_size,\n",
        "                                          shuffle=False, num_workers=2)\n",
        "  \n",
        "  test_set= FaceDataset(y_test,X_test,transform)\n",
        "  test_loader = torch.utils.data.DataLoader(test_set, batch_size=batch_size,\n",
        "                                          shuffle=False, num_workers=2)\n",
        "  print(type(test_set))\n",
        "  print(type(train_set)) \n",
        "  classes_gender = (0,1)\n",
        "  classes_age = (0,1,2,3,4,5,6,7)\n",
        "  \n",
        "  \n",
        "  return train_loader,val_loader,test_loader,classes_gender,classes_age\n",
        "  \n",
        "# functions to show an image\n",
        "def imshow(img,normalized):\n",
        "  '''This function will plot all the images.\n",
        "      training_data and classes are required inputs'''\n",
        "  if(normalized):\n",
        "    img = img / 2 + 0.5     # unnormalize\n",
        "  np_img = img.numpy()\n",
        "  plt.figure(figsize = (10,10))\n",
        "  plt.axis('off')\n",
        "  plt.imshow(np.transpose(np_img, (1, 2, 0)),aspect='equal')\n",
        "  plt.show()\n",
        "\n",
        "def plot_img_from_each_class(training_data,classes, normalized = True):\n",
        "  '''This function will find one image from each class and collect them together for plotting.\n",
        "      training_data and classes are required inputs'''\n",
        "  img_tensor_from_each_class = None\n",
        "  classes_covered = [-1]*10\n",
        "  curr_ind = 0\n",
        "  #get one image from each class\n",
        "  for batch_imgs, labels in training_data:\n",
        "    for img,label in zip(batch_imgs,labels):\n",
        "      if(-1 not in classes_covered):\n",
        "        break\n",
        "      elif(classes_covered[int(label)] != -1):\n",
        "        continue\n",
        "      else:\n",
        "        if img_tensor_from_each_class == None:\n",
        "          img_tensor_from_each_class = torch.reshape(img,(1,3,32,32))\n",
        "        else:\n",
        "          # print(img_tensor_from_each_class.shape,img.shape)\n",
        "          img_tensor_from_each_class = torch.cat([img_tensor_from_each_class,torch.reshape(img,(1,3,32,32))])\n",
        "        classes_covered[int(label)] = (curr_ind,int(label))\n",
        "        curr_ind +=1\n",
        "  # show images\n",
        "  imshow(torchvision.utils.make_grid(img_tensor_from_each_class,nrow = 5),normalized)\n",
        "  # print labels\n",
        "  classes_covered.sort(key = lambda x: x[0])\n",
        "  print(' '.join('       {:6}'.format(classes[each_class[1]]) if (ind != 4) else (''.join('       {:6}'.format(classes[each_class[1]])))+\"\\n\"  for ind,each_class in enumerate(classes_covered)))\n",
        "\n",
        "def get_default_device():\n",
        "    \"\"\"Pick GPU if available, else CPU\"\"\"\n",
        "    if torch.cuda.is_available():\n",
        "        return torch.device('cuda')\n",
        "    else:\n",
        "        return torch.device('cpu')\n",
        "\n",
        "def to_device(data, device):\n",
        "    \"\"\"Move tensor(s) to chosen device\"\"\"\n",
        "    if isinstance(data, (list,tuple)):\n",
        "        return [to_device(x, device) for x in data]\n",
        "    return data.to(device, non_blocking=True)\n",
        "\n",
        "def plot_accuracies(history):\n",
        "    accuracies = [x['val_acc'] for x in history]\n",
        "    plt.plot(accuracies, '-x')\n",
        "    plt.xlabel('epoch')\n",
        "    plt.ylabel('validation accuracy')\n",
        "    plt.title('Accuracy vs. No. of epochs');\n",
        "\n",
        "\n",
        "def split_data(data, classification_type = \"age\"):\n",
        "  #splitting dataset\n",
        "  X = data[['img_path']]\n",
        "  y = data[[classification_type]]\n",
        "  from sklearn.model_selection import train_test_split\n",
        "  X_train, X_test, y_train, y_test = train_test_split(X, y, test_size=0.3, random_state=42)\n",
        "\n",
        "  print('Train data shape {}'.format(X_train.shape))\n",
        "  print('Test data shape {}'.format(X_test.shape))\n",
        "  return X_train, X_test, y_train, y_test\n",
        "\n",
        "\n",
        "def resize_data(X_train, X_test):\n",
        "  train_images = []\n",
        "  test_images = []\n",
        "\n",
        "  for row in X_train.iterrows():\n",
        "      image = Image.open(row[1].img_path)\n",
        "      image = image.resize((227, 227))   # Resize the image\n",
        "      data = np.asarray(image)\n",
        "      train_images.append(data)\n",
        "\n",
        "  for row in X_test.iterrows():\n",
        "      image = Image.open(row[1].img_path)\n",
        "      image = image.resize((227, 227))  # Resize the image\n",
        "      data = np.asarray(image)\n",
        "      test_images.append(data)\n",
        "\n",
        "  train_images = np.asarray(train_images)\n",
        "  test_images = np.asarray(test_images)\n",
        "\n",
        "  print('Train images shape {}'.format(train_images.shape))\n",
        "  print('Test images shape {}'.format(test_images.shape))\n",
        "  return train_images, test_images\n",
        "\n",
        "def move_data_to_gpu(train_loader,val_loader,test_loader):\n",
        "  device = get_default_device()\n",
        "  print(\"device being used is \", device)\n",
        "  training_data = DeviceDataLoader(train_loader,device)\n",
        "  val_data = DeviceDataLoader(val_loader,device)\n",
        "  test_data = DeviceDataLoader(test_loader,device)\n",
        "  return training_data, val_data,test_data, device\n",
        "\n",
        "def show_test_accuracy(model,test_data,classes = ['m','f']):\n",
        "  print(\"The accuracy of test data is\\n\",f'{model.evaluate(test_data)[\"val_acc\"]*100:3.2f}',\"%\\n\")\n",
        "  model.show_confusion_matrix(test_data = test_data,classes= classes) "
      ],
      "execution_count": null,
      "outputs": []
    },
    {
      "cell_type": "markdown",
      "metadata": {
        "id": "4T_8SNHnlWMU"
      },
      "source": [
        "# Splitting the data into train and test set for gender classification"
      ]
    },
    {
      "cell_type": "code",
      "metadata": {
        "colab": {
          "base_uri": "https://localhost:8080/"
        },
        "id": "avL3vHtMTkDG",
        "outputId": "33c11747-4719-4cb4-d232-f857a8802101"
      },
      "source": [
        "X_train_gender, X_test_gender, y_train_gender, y_test_gender = split_data(unbiased_data,classification_type = \"gender\")\n",
        "\n",
        "# resizing the splitted data\n",
        "gender_train_images,gender_test_images = resize_data(X_train_gender, X_test_gender) \n",
        "\n",
        "# initilaizing the data with train, test and validation with appropriate transformations and dataloaders\n",
        "gender_train_loader,gender_val_loader,gender_test_loader,classes_gender,classes_age = load_data(gender_train_images,y_train_gender,gender_test_images,y_test_gender,batch_size = 32,val_size = 2000, normalize = True, augument_data = True)\n",
        "\n",
        "# Moving data to GPU for faster processing\n",
        "training_data,val_data,test_data,device = move_data_to_gpu(gender_train_loader,gender_val_loader,gender_test_loader)"
      ],
      "execution_count": null,
      "outputs": [
        {
          "output_type": "stream",
          "name": "stdout",
          "text": [
            "Train data shape (12216, 1)\n",
            "Test data shape (5236, 1)\n",
            "Train images shape (12216, 227, 227, 3)\n",
            "Test images shape (5236, 227, 227, 3)\n",
            "<class '__main__.FaceDataset'>\n",
            "<class '__main__.FaceDataset'>\n",
            "device being used is  cuda\n"
          ]
        }
      ]
    },
    {
      "cell_type": "markdown",
      "metadata": {
        "id": "3ta3bwCmlzEb"
      },
      "source": [
        "# Define the required CNN network classify the images."
      ]
    },
    {
      "cell_type": "code",
      "metadata": {
        "id": "ScIN2jlL7gYq"
      },
      "source": [
        "class Gender_Net(Cifar_Conv_Net):\n",
        "  def __init__(self, loss_func = F.cross_entropy,regularization = \"L2\"):\n",
        "    super(Cifar_Conv_Net,self).__init__()\n",
        "    self.conv1 = nn.Conv2d(3, 3, 3, padding = 1)  \n",
        "    self.conv2 = nn.Conv2d(3, 128, 3,padding = 1) \n",
        "    self.conv1_bn=nn.BatchNorm2d(128)\n",
        "    self.pool = nn.MaxPool2d(2,2)    \n",
        "    self.conv3 = nn.Conv2d(128, 128, 5, padding = 2) \n",
        "    self.conv4 = nn.Conv2d(128, 256, 5, padding = 2) \n",
        "    self.conv2_bn=nn.BatchNorm2d(256)\n",
        "    self.conv5 = nn.Conv2d(256, 256, 5, padding = 2) \n",
        "    self.conv6 = nn.Conv2d(256, 512, 5, padding = 2) \n",
        "    self.conv3_bn=nn.BatchNorm2d(512)\n",
        "    # after calculating the size based on above convolutional layers the shape here will be [batches, chanels = 16, featres = [5,5]]\n",
        "    # ((W – K + 2P) / S) + 1\n",
        "    self.fc1 = nn.Linear(512*28*28,120) \n",
        "    self.fc2 = nn.Linear(120,84)\n",
        "    self.fc3 = nn.Linear(84,2)\n",
        "    self.activation_func = F.relu;\n",
        "    self.loss_func = loss_func\n",
        "    self.regularization = regularization\n",
        "    self.dropout = nn.Dropout(p=0.2)\n",
        "  \n",
        "  def forward(self,x):\n",
        "    \n",
        "    '''This function define the forward flow of the neural network.'''\n",
        "    # initializing convolutional layer\n",
        "    forward_flow = self.activation_func((self.conv2(x)))\n",
        "    #forward_flow = self.activation_func(self.conv1_bn(self.conv2(forward_flow)))\n",
        "    forward_flow = self.pool(forward_flow)\n",
        "    forward_flow = self.dropout(forward_flow)\n",
        "    forward_flow = self.activation_func((self.conv4(forward_flow)))\n",
        "    #forward_flow = self.activation_func(self.conv2_bn(self.conv4(forward_flow)))\n",
        "    forward_flow = self.pool(forward_flow)\n",
        "    forward_flow = self.dropout(forward_flow)\n",
        "    forward_flow = self.activation_func((self.conv6(forward_flow)))\n",
        "    #forward_flow = self.activation_func(self.conv3_bn(self.conv6(forward_flow)))\n",
        "    forward_flow = self.pool(forward_flow)\n",
        "    forward_flow = self.dropout(forward_flow)\n",
        "    # the first parameter is the batch size, which pytorch automatically configures and the flatten size is calculated again based on the formula.\n",
        "    forward_flow = forward_flow.view(-1, 512*28*28)\n",
        "    # fully connected network is started here\n",
        "    forward_flow = self.activation_func(self.fc1(forward_flow))\n",
        "    forward_flow = self.dropout(forward_flow)\n",
        "    forward_flow = self.activation_func(self.fc2(forward_flow))\n",
        "    forward_flow = self.dropout(forward_flow)\n",
        "    forward_flow = self.fc3(forward_flow)\n",
        "    return forward_flow"
      ],
      "execution_count": null,
      "outputs": []
    },
    {
      "cell_type": "markdown",
      "metadata": {
        "id": "K1tv7J40mJGO"
      },
      "source": [
        "# Initialize the model and fit it with proper hyperparameters"
      ]
    },
    {
      "cell_type": "code",
      "metadata": {
        "colab": {
          "base_uri": "https://localhost:8080/"
        },
        "id": "ucNT5NyBBzDW",
        "outputId": "f3176c84-21f1-4067-e2db-14b67a7b549d"
      },
      "source": [
        "model = None\n",
        "model = to_device(Gender_Net(), device)\n",
        "history = [model.evaluate(val_data)]\n",
        "history += model.fit(training_data, val_data, epochs = 15, learning_rate = 0.01,weight_decay = 0,moment = 0.9)"
      ],
      "execution_count": null,
      "outputs": [
        {
          "output_type": "stream",
          "name": "stdout",
          "text": [
            "Epoch [0], val_loss: 0.6043, val_acc: 0.6701\n",
            "Epoch [1], val_loss: 0.5852, val_acc: 0.6939\n",
            "Epoch [2], val_loss: 0.5253, val_acc: 0.7381\n",
            "Epoch [3], val_loss: 0.4821, val_acc: 0.7450\n",
            "Epoch [4], val_loss: 0.4813, val_acc: 0.7693\n",
            "Epoch [5], val_loss: 0.4318, val_acc: 0.7892\n",
            "Epoch [6], val_loss: 0.4089, val_acc: 0.8105\n",
            "Epoch [7], val_loss: 0.3730, val_acc: 0.8214\n",
            "Epoch [8], val_loss: 0.3762, val_acc: 0.8284\n",
            "Epoch [9], val_loss: 0.3631, val_acc: 0.8338\n",
            "Epoch [10], val_loss: 0.3561, val_acc: 0.8452\n",
            "Epoch [11], val_loss: 0.3067, val_acc: 0.8690\n",
            "Epoch [12], val_loss: 0.2845, val_acc: 0.8705\n",
            "Epoch [13], val_loss: 0.2766, val_acc: 0.8790\n",
            "Epoch [14], val_loss: 0.2550, val_acc: 0.8948\n",
            "The Training confusion matrix is..\n",
            "\n",
            "         m         f         \n",
            "\n",
            "m       93.70 %    6.30 %   \n",
            "\n",
            "f       17.11 %   82.89 %   \n",
            "\n",
            "\n",
            "\n",
            "The validation confusion matrix is..\n",
            "\n",
            "         m         f         \n",
            "\n",
            "m       95.81 %    4.19 %   \n",
            "\n",
            "f       16.85 %   83.15 %   \n",
            "\n",
            "\n",
            "\n",
            "\n",
            "\n"
          ]
        }
      ]
    },
    {
      "cell_type": "markdown",
      "metadata": {
        "id": "v8xaYLM0mQKf"
      },
      "source": [
        "#get the test accuracy of the above fitted model"
      ]
    },
    {
      "cell_type": "code",
      "metadata": {
        "id": "bld6SPEOB_mT",
        "colab": {
          "base_uri": "https://localhost:8080/"
        },
        "outputId": "b7089632-f8b7-474d-c7f4-afa7f548a00c"
      },
      "source": [
        "show_test_accuracy(model,test_data)\n",
        "# torch.save(model, 'best-gender-model.net')"
      ],
      "execution_count": null,
      "outputs": [
        {
          "output_type": "stream",
          "name": "stdout",
          "text": [
            "The accuracy of test data is\n",
            " 85.59 %\n",
            "\n",
            "The test confusion matrix is..\n",
            "\n",
            "         m         f         \n",
            "\n",
            "m       89.50 %   10.50 %   \n",
            "\n",
            "f       19.62 %   80.38 %   \n",
            "\n",
            "\n",
            "\n",
            "\n",
            "\n"
          ]
        }
      ]
    },
    {
      "cell_type": "code",
      "metadata": {
        "id": "NhNuLGwCKrTu"
      },
      "source": [
        "model.eval()\n",
        "dummy_input = torch.randn(32, 3, 227, 227)\n",
        "input_names = [ \"actual_input\" ]\n",
        "output_names = [ \"output\" ]\n",
        "torch.onnx.export(model.to('cpu'), \n",
        "                  dummy_input,\n",
        "                  \"gender_model.onnx\",\n",
        "                  verbose=False,\n",
        "                  input_names=input_names,\n",
        "                  output_names=output_names,\n",
        "                  export_params=True,\n",
        "                  opset_version = 11\n",
        "                  )"
      ],
      "execution_count": null,
      "outputs": []
    },
    {
      "cell_type": "markdown",
      "metadata": {
        "id": "tUecknBO_H_P"
      },
      "source": [
        "# NOTE : Before running the below model, we advise to clear the processor which has gender_model stored because when we run the below model without clearing the previous model, the session collapses due storage being full in colab, it might not affect you based on where you are running this but if you face a problem related to storage space running out, please follow the below steps\n",
        "> ## 1) restart the runtime\n",
        "> ## 2) run all the cells again until and including the cell that states \"defining required functions for Convolutional models template and supporting functions\" \n",
        "> 3) then skip all the remaining cell till here and run from the below cell"
      ]
    },
    {
      "cell_type": "markdown",
      "metadata": {
        "id": "LPFRDY-ymVyS"
      },
      "source": [
        "# Splitting data into train and test for Age model"
      ]
    },
    {
      "cell_type": "code",
      "metadata": {
        "id": "0So2exZyp7xr",
        "colab": {
          "base_uri": "https://localhost:8080/"
        },
        "outputId": "81cda5ba-1a72-4e9b-ac5b-34df878e58a8"
      },
      "source": [
        "X_train, X_test, y_train, y_test = split_data(unbiased_data,classification_type = \"age\")\n",
        "\n",
        "# resizing the splitted data\n",
        "train_images,test_images = resize_data(X_train, X_test) \n",
        "\n",
        "# initilaizing the data with train, test and validation with appropriate transformations and dataloaders\n",
        "train_loader,val_loader,test_loader,classes_gender,classes_age = load_data(train_images,y_train,test_images,y_test,batch_size = 32,val_size = 2000, normalize = True, augument_data = True)\n",
        "\n",
        "# Moving data to GPU for faster processing\n",
        "training_data,val_data,test_data,device = move_data_to_gpu(train_loader,val_loader,test_loader)"
      ],
      "execution_count": null,
      "outputs": [
        {
          "output_type": "stream",
          "name": "stdout",
          "text": [
            "Train data shape (12216, 1)\n",
            "Test data shape (5236, 1)\n",
            "Train images shape (12216, 227, 227, 3)\n",
            "Test images shape (5236, 227, 227, 3)\n",
            "<class '__main__.FaceDataset'>\n",
            "<class '__main__.FaceDataset'>\n",
            "device being used is  cuda\n"
          ]
        }
      ]
    },
    {
      "cell_type": "markdown",
      "metadata": {
        "id": "8B1FDrymmo7B"
      },
      "source": [
        "# Define the CNN model for Age Classification"
      ]
    },
    {
      "cell_type": "code",
      "metadata": {
        "id": "O5RLTmfZukR3"
      },
      "source": [
        "class Age_Net(Cifar_Conv_Net):\n",
        "  def __init__(self, loss_func = F.cross_entropy,regularization = \"L2\"):\n",
        "    super(Cifar_Conv_Net,self).__init__()\n",
        "    # self.conv1 = nn.Conv2d(3, 3, 3, padding = 'same')  #=> 32-5 +1=  28 i/p size = (32,28,28)\n",
        "    self.conv1 = nn.Conv2d(3, 3, 3, padding = 1)  #=> 32-5 +1=  28 i/p size = (32,28,28)\n",
        "\n",
        "    self.conv2 = nn.Conv2d(3, 128, 3,padding = 1) #=> 28-5 +1=  24 i/p size = (64,24,24)\n",
        "    self.conv1_bn=nn.BatchNorm2d(128)\n",
        "    self.pool = nn.MaxPool2d(2,2)    #=> (16,12,12)\n",
        "    self.conv3 = nn.Conv2d(128, 128, 5, padding = 2) #=> 12-5 +1=  8 i/p size = (32,8,8)\n",
        "    self.conv4 = nn.Conv2d(128, 256, 5, padding = 2) #=> 8-5 +1=  4 i/p size = (64,4,4)\n",
        "    self.conv2_bn=nn.BatchNorm2d(256)\n",
        "    self.conv5 = nn.Conv2d(256, 256, 5, padding = 2) #=> 12-5 +1=  8 i/p size = (32,8,8)\n",
        "    self.conv6 = nn.Conv2d(256, 512, 5, padding = 2) #=> 8-5 +1=  4 i/p size = (64,4,4)\n",
        "    self.conv3_bn=nn.BatchNorm2d(512)\n",
        "    # after calculating the size based on above convolutional layers the shape here will be [batches, chanels = 16, featres = [5,5]]\n",
        "    # ((W – K + 2P) / S) + 1\n",
        "    self.fc1 = nn.Linear(512*28*28,120) \n",
        "    self.fc2 = nn.Linear(120,84)\n",
        "    self.fc3 = nn.Linear(84,8)\n",
        "    self.activation_func = F.relu;\n",
        "    self.loss_func = loss_func\n",
        "    self.regularization = regularization\n",
        "    self.dropout = nn.Dropout(p=0.2)\n",
        "  \n",
        "  def forward(self,x):\n",
        "    '''This function define the forward flow of the neural network.'''\n",
        "    # initializing convolutional layer\n",
        "    forward_flow = self.activation_func((self.conv2(x)))\n",
        "    #forward_flow = self.activation_func(self.conv1_bn(self.conv2(forward_flow)))\n",
        "    forward_flow = self.pool(forward_flow)\n",
        "    forward_flow = self.dropout(forward_flow)\n",
        "    forward_flow = self.activation_func((self.conv4(forward_flow)))\n",
        "    #forward_flow = self.activation_func(self.conv2_bn(self.conv4(forward_flow)))\n",
        "    forward_flow = self.pool(forward_flow)\n",
        "    forward_flow = self.dropout(forward_flow)\n",
        "    forward_flow = self.activation_func((self.conv6(forward_flow)))\n",
        "    #forward_flow = self.activation_func(self.conv3_bn(self.conv6(forward_flow)))\n",
        "    forward_flow = self.pool(forward_flow)\n",
        "    forward_flow = self.dropout(forward_flow)\n",
        "    # the first parameter is the batch size, which pytorch automatically configures and the flatten size is calculated again based on the formula.\n",
        "    forward_flow = forward_flow.view(-1, 512*28*28)\n",
        "    # fully connected network is started here\n",
        "    forward_flow = self.activation_func(self.fc1(forward_flow))\n",
        "    forward_flow = self.dropout(forward_flow)\n",
        "    forward_flow = self.activation_func(self.fc2(forward_flow))\n",
        "    forward_flow = self.dropout(forward_flow)\n",
        "    forward_flow = self.fc3(forward_flow)\n",
        "    return forward_flow"
      ],
      "execution_count": null,
      "outputs": []
    },
    {
      "cell_type": "markdown",
      "metadata": {
        "id": "oaiwRNhkmykA"
      },
      "source": [
        "# Initialize the model and fit it with apprpriate hyper parameters"
      ]
    },
    {
      "cell_type": "code",
      "metadata": {
        "id": "bfY6K0Llx1_W",
        "colab": {
          "base_uri": "https://localhost:8080/"
        },
        "outputId": "de021dfa-b781-4d1c-e718-d94833d5e956"
      },
      "source": [
        "age_model = None\n",
        "age_model = to_device(Age_Net(), device)\n",
        "history = [age_model.evaluate(val_data)]\n",
        "history += age_model.fit(training_data, val_data, epochs = 25, learning_rate = 0.01,weight_decay = 0,moment = 0.9,classes=['0-2','4-6','8-13','15-20','25-32','38-43','48-53','60+'])"
      ],
      "execution_count": null,
      "outputs": [
        {
          "output_type": "stream",
          "name": "stdout",
          "text": [
            "Epoch [0], val_loss: 1.8515, val_acc: 0.3125\n",
            "Epoch [1], val_loss: 1.7641, val_acc: 0.3313\n",
            "Epoch [2], val_loss: 1.6414, val_acc: 0.3601\n",
            "Epoch [3], val_loss: 1.6129, val_acc: 0.3631\n",
            "Epoch [4], val_loss: 1.4902, val_acc: 0.3968\n",
            "Epoch [5], val_loss: 1.4016, val_acc: 0.4415\n",
            "Epoch [6], val_loss: 1.3851, val_acc: 0.4618\n",
            "Epoch [7], val_loss: 1.3143, val_acc: 0.4807\n",
            "Epoch [8], val_loss: 1.2988, val_acc: 0.4851\n"
          ]
        }
      ]
    },
    {
      "cell_type": "markdown",
      "metadata": {
        "id": "LK8Ox2gwm4_V"
      },
      "source": [
        "# show test accuracy"
      ]
    },
    {
      "cell_type": "code",
      "metadata": {
        "id": "YS8gVOTN2r-l",
        "colab": {
          "base_uri": "https://localhost:8080/"
        },
        "outputId": "0efc31e9-fa53-4f61-aa55-b8ac5828cb0a"
      },
      "source": [
        "# print(\"The accuracy of test data is\\n\",f'{model.evaluate(test_data)[\"val_acc\"]*100:3.2f}',\"%\\n\")\n",
        "# model.show_confusion_matrix(test_data = test_data,classes =['0-2','4-6','8-13','15-20','25-32','38-43','48-53','60+'] )\n",
        "show_test_accuracy(age_model,test_data,classes = ['0-2','4-6','8-13','15-20','25-32','38-43','48-53','60+'])"
      ],
      "execution_count": null,
      "outputs": [
        {
          "output_type": "stream",
          "name": "stdout",
          "text": [
            "The accuracy of test data is\n",
            " 51.18 %\n",
            "\n",
            "The test confusion matrix is..\n",
            "\n",
            "         0-2       4-6       8-13      15-20     25-32     38-43     48-53     60+       \n",
            "\n",
            "0-2     63.51 %   28.44 %    2.84 %    0.47 %    4.03 %    0.47 %    0.00 %    0.24 %   \n",
            "\n",
            "4-6     13.92 %   59.20 %   18.72 %    2.56 %    4.48 %    0.96 %    0.00 %    0.16 %   \n",
            "\n",
            "8-13     2.72 %   10.88 %   56.50 %    5.59 %   20.24 %    3.02 %    0.00 %    1.06 %   \n",
            "\n",
            "15-20    0.36 %    3.05 %    9.32 %   30.29 %   43.55 %   11.11 %    0.18 %    2.15 %   \n",
            "\n",
            "25-32    0.39 %    1.35 %    5.26 %    7.06 %   61.04 %   23.36 %    0.13 %    1.41 %   \n",
            "\n",
            "38-43    0.34 %    0.68 %    3.30 %    4.32 %   35.72 %   48.92 %    0.57 %    6.14 %   \n",
            "\n",
            "48-53    0.00 %    1.87 %    4.12 %    5.24 %   25.47 %   45.32 %    2.25 %   15.73 %   \n",
            "\n",
            "60+      1.13 %    1.51 %    1.51 %    2.64 %   11.70 %   38.11 %    3.40 %   40.00 %   \n",
            "\n",
            "\n",
            "\n",
            "\n",
            "\n"
          ]
        }
      ]
    },
    {
      "cell_type": "code",
      "metadata": {
        "id": "WBK9OxiQuiNP"
      },
      "source": [
        "age_model.eval()\n",
        "torch.save(age_model.state_dict(), 'best-age-model.pth')"
      ],
      "execution_count": null,
      "outputs": []
    },
    {
      "cell_type": "code",
      "metadata": {
        "colab": {
          "base_uri": "https://localhost:8080/",
          "height": 171
        },
        "id": "F9zXH_vMjxCb",
        "outputId": "a0ceb8ff-41eb-453b-ab86-8c84dae30a21"
      },
      "source": [
        "age_model.named_parameters()"
      ],
      "execution_count": null,
      "outputs": [
        {
          "output_type": "error",
          "ename": "NameError",
          "evalue": "ignored",
          "traceback": [
            "\u001b[0;31m---------------------------------------------------------------------------\u001b[0m",
            "\u001b[0;31mNameError\u001b[0m                                 Traceback (most recent call last)",
            "\u001b[0;32m<ipython-input-35-7bbcd0df5083>\u001b[0m in \u001b[0;36m<module>\u001b[0;34m()\u001b[0m\n\u001b[0;32m----> 1\u001b[0;31m \u001b[0mage_model\u001b[0m\u001b[0;34m.\u001b[0m\u001b[0mnamed_parameters\u001b[0m\u001b[0;34m(\u001b[0m\u001b[0;34m)\u001b[0m\u001b[0;34m\u001b[0m\u001b[0;34m\u001b[0m\u001b[0m\n\u001b[0m",
            "\u001b[0;31mNameError\u001b[0m: name 'age_model' is not defined"
          ]
        }
      ]
    },
    {
      "cell_type": "markdown",
      "metadata": {
        "id": "5xfL34Pv9Nw7"
      },
      "source": [
        "# Contributions to the code are given below\n",
        "> ## 1) Omer has started with data initization part that includes, downloading, filtering and creating workable data from raw data.\n",
        "\n",
        "> ## 2) Moyeed has worked on creating the template Network and start the training process by defining all required functions.\n",
        "\n",
        "> ## 3) Then we both together have worked on modifying the hyperparameters, adding regularization techniques and improving the accuracy by trying out different items. "
      ]
    },
    {
      "cell_type": "code",
      "metadata": {
        "id": "avDMgs7V-5Vt"
      },
      "source": [
        "age_model.eval()\n",
        "dummy_input = torch.randn(32, 3, 227, 227)\n",
        "input_names = [ \"actual_input\" ]\n",
        "output_names = [ \"output\" ]\n",
        "torch.onnx.export(age_model.to('cpu'), \n",
        "                  dummy_input,\n",
        "                  \"age_model.onnx\",\n",
        "                  verbose=False,\n",
        "                  input_names=input_names,\n",
        "                  output_names=output_names,\n",
        "                  export_params=True,\n",
        "                  opset_version = 11\n",
        "                  )"
      ],
      "execution_count": null,
      "outputs": []
    }
  ]
}